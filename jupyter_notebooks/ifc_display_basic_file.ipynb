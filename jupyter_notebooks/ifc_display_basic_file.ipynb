{
 "cells": [
  {
   "cell_type": "code",
   "execution_count": 1,
   "metadata": {},
   "outputs": [],
   "source": [
    "import os\n",
    "\n",
    "from OCC.Display.WebGl.jupyter_renderer import JupyterRenderer, format_color\n",
    "import ifcopenshell, ifcopenshell.geom"
   ]
  },
  {
   "cell_type": "code",
   "execution_count": 2,
   "metadata": {},
   "outputs": [],
   "source": [
    "ifc_filename = os.path.join('..', 'assets', 'ifc_models', 'AC-11-Smiley-West-04-07-2007.ifc')\n",
    "ifc_filename = r'C:\\Users\\krist\\OneDrive\\work\\ai_ifcinterop_v0_0_16_with_hierarchy.ifc'\n",
    "assert os.path.isfile(ifc_filename)"
   ]
  },
  {
   "cell_type": "code",
   "execution_count": 3,
   "metadata": {},
   "outputs": [],
   "source": [
    "my_renderer = JupyterRenderer(size=(700, 700))"
   ]
  },
  {
   "cell_type": "code",
   "execution_count": 4,
   "metadata": {},
   "outputs": [],
   "source": [
    "settings = ifcopenshell.geom.settings()\n",
    "settings.set(settings.USE_PYTHON_OPENCASCADE, True)  # tells ifcopenshell to use pythonocc"
   ]
  },
  {
   "cell_type": "code",
   "execution_count": 5,
   "metadata": {},
   "outputs": [],
   "source": [
    "ifc_file = ifcopenshell.open(ifc_filename)"
   ]
  },
  {
   "cell_type": "code",
   "execution_count": 6,
   "metadata": {},
   "outputs": [],
   "source": [
    "products = ifc_file.by_type(\"IfcProduct\") # traverse all IfcProducts"
   ]
  },
  {
   "cell_type": "code",
   "execution_count": 9,
   "metadata": {},
   "outputs": [],
   "source": [
    "for product in products:\n",
    "    if product.Representation is not None:  # some IfcProducts don't have any 3d representation\n",
    "        pdct_shape = ifcopenshell.geom.create_shape(settings, inst=product)\n",
    "        r,g,b,alpha = pdct_shape.styles[0] # the shape color\n",
    "        color = format_color(int(abs(r)*255), int(abs(g)*255), int(abs(b)*255))\n",
    "        # below, the pdct_shape.geometry is a TopoDS_Shape, i.e. can be rendered using\n",
    "        # any renderer (threejs, x3dom, jupyter, qt5 based etc.)\n",
    "        my_renderer.DisplayShape(pdct_shape.geometry, shape_color = color, transparency=False, opacity=alpha)"
   ]
  },
  {
   "cell_type": "code",
   "execution_count": 10,
   "metadata": {},
   "outputs": [
    {
     "data": {
      "application/vnd.jupyter.widget-view+json": {
       "model_id": "99019fa453b54f119f83a42690968bd5",
       "version_major": 2,
       "version_minor": 0
      },
      "text/plain": [
       "HBox(children=(VBox(children=(HBox(children=(Checkbox(value=False, description='Axes', layout=Layout(height='a…"
      ]
     },
     "metadata": {},
     "output_type": "display_data"
    },
    {
     "data": {
      "text/plain": []
     },
     "execution_count": 10,
     "metadata": {},
     "output_type": "execute_result"
    }
   ],
   "source": [
    "my_renderer\n"
   ]
  }
 ],
 "metadata": {
  "kernelspec": {
   "display_name": "Python 3",
   "language": "python",
   "name": "python3"
  },
  "language_info": {
   "codemirror_mode": {
    "name": "ipython",
    "version": 3
   },
   "file_extension": ".py",
   "mimetype": "text/x-python",
   "name": "python",
   "nbconvert_exporter": "python",
   "pygments_lexer": "ipython3",
   "version": "3.7.6"
  }
 },
 "nbformat": 4,
 "nbformat_minor": 2
}
